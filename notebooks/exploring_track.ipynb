{
 "cells": [
  {
   "cell_type": "markdown",
   "metadata": {},
   "source": [
    "# Traject : exploring tracks"
   ]
  },
  {
   "cell_type": "markdown",
   "metadata": {},
   "source": [
    "This Notebook illustrates how to explore tracks.\n",
    "It comes at a complement to the documentation.\n",
    "It is assumed that a file has been computed and stored by a previous track() command.\n",
    "If needed, you can change the filename and go through the Notebook."
   ]
  },
  {
   "cell_type": "code",
   "execution_count": 1,
   "metadata": {},
   "outputs": [
    {
     "name": "stderr",
     "output_type": "stream",
     "text": [
      "# [2023/02/15-14:06:22][gribapi.bindings][<module>:0049][INFO]: ecCodes library found using name 'eccodes'.\n"
     ]
    },
    {
     "name": "stdout",
     "output_type": "stream",
     "text": [
      "Traject version is : v0.84\n",
      " \n",
      "ltraj contains 4 tracks\n"
     ]
    }
   ],
   "source": [
    "from traject import *\n",
    "filename=\"../test_cases/test2/track_test_case2a_v\" + str(traject_version) + \".json\"\n",
    "\n",
    "print(\"Traject version is : v\" + str(traject_version))\n",
    "\n",
    "#Reading the input track file (if needed, you can change the filename)\n",
    "ltraj=Read(filename)\n",
    "print(\" \")\n",
    "print(\"ltraj contains \" + str(len(ltraj)) + \" tracks\")"
   ]
  },
  {
   "cell_type": "markdown",
   "metadata": {},
   "source": [
    "The output of Read() and of track() is a Python list.\n",
    "Each element of the list is a track, so you may run through the tracks with common Python commands. The order of the tracks in the list is meaningless."
   ]
  },
  {
   "cell_type": "code",
   "execution_count": 2,
   "metadata": {},
   "outputs": [
    {
     "name": "stdout",
     "output_type": "stream",
     "text": [
      "Run through the tracks in the list...\n",
      "Name of the tracks:\n",
      "ALEX\n",
      "ALEX\n",
      "ALEX\n",
      "ALEX\n"
     ]
    }
   ],
   "source": [
    "print(\"Run through the tracks in the list...\")\n",
    "print(\"Name of the tracks:\")\n",
    "for traj in ltraj:\n",
    "    print(traj.name)"
   ]
  },
  {
   "cell_type": "markdown",
   "metadata": {},
   "source": [
    "Now we can just explore the first track in the list..."
   ]
  },
  {
   "cell_type": "markdown",
   "metadata": {},
   "source": [
    "# Exploration of a single track"
   ]
  },
  {
   "cell_type": "code",
   "execution_count": 3,
   "metadata": {},
   "outputs": [
    {
     "name": "stdout",
     "output_type": "stream",
     "text": [
      "{'classobj': 'Centre0D', 'nameobj': '', 'name': 'ALEX', 'nobj': 15, 'traj': [<OBJ_Centre0D.ObjectM object at 0x7fe3eee98100>, <OBJ_Centre0D.ObjectM object at 0x7fe3eee982b0>, <OBJ_Centre0D.ObjectM object at 0x7fe3eee98250>, <OBJ_Centre0D.ObjectM object at 0x7fe3eee98280>, <OBJ_Centre0D.ObjectM object at 0x7fe3fed67730>, <OBJ_Centre0D.ObjectM object at 0x7fe3fed676d0>, <OBJ_Centre0D.ObjectM object at 0x7fe3fed67880>, <OBJ_Centre0D.ObjectM object at 0x7fe3fed67850>, <OBJ_Centre0D.ObjectM object at 0x7fe3fed67790>, <OBJ_Centre0D.ObjectM object at 0x7fe3fed678e0>, <OBJ_Centre0D.ObjectM object at 0x7fe3fed67910>, <OBJ_Centre0D.ObjectM object at 0x7fe3fed67820>, <OBJ_Centre0D.ObjectM object at 0x7fe3fed67970>, <OBJ_Centre0D.ObjectM object at 0x7fe3fed678b0>, <OBJ_Centre0D.ObjectM object at 0x7fe3fed679a0>], 'algodef': {'name': 'VDG', 'classobj': 'Centre0D', 'nameobj': 'Cyclone', 'varalgo': {'last_start': 12, 'thr_track': 7e-05, 'thr_pairing': 101000.0, 'ss': 4, 'w': 0.3, 'steering_levels': [850, 700], 'uvmean_box': 0}, 'parfilt': {'rv850': 100.0, 'u850': 100.0, 'v850': 100.0, 'u700': 100.0, 'v700': 100.0, 'mslp': 0}, 'parres': {'all': 0.5}, 'specfields': {'track': 'rv850', 'pairing': 'mslp'}, 'domtraj': {'lonmin': -30.0, 'latmin': 35.0, 'lonmax': 20.0, 'latmax': 60.0}}, 'inputdef': {'origin': 'fc', 'model': 'arpege', 'domain': 'glob05', 'experiment': 'oper', 'cutoff': 'production', 'member': '008'}, 'basetime': '2020100106'}\n"
     ]
    }
   ],
   "source": [
    "traj=ltraj[0]\n",
    "print(traj.__dict__)"
   ]
  },
  {
   "cell_type": "markdown",
   "metadata": {},
   "source": [
    "Let's decompose this in a more readable way...\n",
    "First, the track is composed of some metadata, such as the definitions of inputdef and of algodef that have been used to compute the track. This can be very helpful for some further processing (to know from what model the track is issued, to keep track of the algorithm and parameters that have been applied, etc)."
   ]
  },
  {
   "cell_type": "code",
   "execution_count": 4,
   "metadata": {},
   "outputs": [
    {
     "name": "stdout",
     "output_type": "stream",
     "text": [
      "Inputdef: {'origin': 'fc', 'model': 'arpege', 'domain': 'glob05', 'experiment': 'oper', 'cutoff': 'production', 'member': '008'}\n",
      "\n",
      "Algodef: {'name': 'VDG', 'classobj': 'Centre0D', 'nameobj': 'Cyclone', 'varalgo': {'last_start': 12, 'thr_track': 7e-05, 'thr_pairing': 101000.0, 'ss': 4, 'w': 0.3, 'steering_levels': [850, 700], 'uvmean_box': 0}, 'parfilt': {'rv850': 100.0, 'u850': 100.0, 'v850': 100.0, 'u700': 100.0, 'v700': 100.0, 'mslp': 0}, 'parres': {'all': 0.5}, 'specfields': {'track': 'rv850', 'pairing': 'mslp'}, 'domtraj': {'lonmin': -30.0, 'latmin': 35.0, 'lonmax': 20.0, 'latmax': 60.0}}\n"
     ]
    }
   ],
   "source": [
    "print(\"Inputdef:\",traj.inputdef)\n",
    "print(\"\")\n",
    "print(\"Algodef:\",traj.algodef)"
   ]
  },
  {
   "cell_type": "markdown",
   "metadata": {},
   "source": [
    "The track is also defined by other elements, such as its class, name, the number of objects in the track ..."
   ]
  },
  {
   "cell_type": "code",
   "execution_count": 5,
   "metadata": {},
   "outputs": [
    {
     "name": "stdout",
     "output_type": "stream",
     "text": [
      "Traject Python class : Centre0D\n",
      "Kind of object (optional):  \n",
      "Name of the tracked object:  ALEX\n",
      "Basetime (first instant of the data used for tracking):  2020100106\n"
     ]
    }
   ],
   "source": [
    "print(\"Traject Python class :\",traj.classobj)\n",
    "print(\"Kind of object (optional): \", traj.nameobj)\n",
    "print(\"Name of the tracked object: \", traj.name)\n",
    "print(\"Basetime (first instant of the data used for tracking): \", traj.basetime)"
   ]
  },
  {
   "cell_type": "markdown",
   "metadata": {},
   "source": [
    "It is important to note that, for tracking algorithms that use a reference track, the name of the reference track is applied to the computed track. This property is used to verify the matching of tracks to a reference, in the computation of scores for instance.\n",
    "\n",
    "Last but not least, the track itself is defined as a list of objects :"
   ]
  },
  {
   "cell_type": "code",
   "execution_count": 6,
   "metadata": {},
   "outputs": [
    {
     "name": "stdout",
     "output_type": "stream",
     "text": [
      "Succesive objects in the track: \n",
      "Instant  2020100112  - Longitude:  -10.818181818181818 , Latitude:  47.56707317073171\n",
      "Diagnostics:  ['mslp_min_o', 'mslp_min_p']\n",
      "Instant  2020100115  - Longitude:  -7.890909090909091 , Latitude:  47.85747663551402\n",
      "Diagnostics:  ['mslp_min_o', 'mslp_min_p']\n",
      "Instant  2020100118  - Longitude:  -6.063559322033898 , Latitude:  47.88059701492537\n",
      "Diagnostics:  ['mslp_min_o', 'mslp_min_p']\n",
      "Instant  2020100121  - Longitude:  -4.085820895522388 , Latitude:  47.743288590604024\n",
      "Diagnostics:  ['mslp_min_o', 'mslp_min_p']\n",
      "Instant  2020100200  - Longitude:  -2.9533898305084745 , Latitude:  48.93115942028985\n",
      "Diagnostics:  ['mslp_min_o', 'mslp_min_p']\n",
      "Instant  2020100203  - Longitude:  -2.3214285714285716 , Latitude:  49.17816091954023\n",
      "Diagnostics:  ['mslp_min_o', 'mslp_min_p']\n",
      "Instant  2020100206  - Longitude:  -2.0694444444444446 , Latitude:  49.68333333333333\n",
      "Diagnostics:  ['mslp_min_o', 'mslp_min_p']\n",
      "Instant  2020100209  - Longitude:  -2.9431818181818183 , Latitude:  49.66\n",
      "Diagnostics:  ['mslp_min_o', 'mslp_min_p']\n",
      "Instant  2020100212  - Longitude:  -3.2126865671641793 , Latitude:  49.078\n",
      "Diagnostics:  ['mslp_min_o', 'mslp_min_p']\n",
      "Instant  2020100215  - Longitude:  -3.230392156862745 , Latitude:  48.83715596330275\n",
      "Diagnostics:  ['mslp_min_o', 'mslp_min_p']\n",
      "Instant  2020100218  - Longitude:  -3.2142857142857144 , Latitude:  48.435483870967744\n",
      "Diagnostics:  ['mslp_min_o', 'mslp_min_p']\n",
      "Instant  2020100221  - Longitude:  -3.1982758620689653 , Latitude:  47.579896907216494\n",
      "Diagnostics:  ['mslp_min_o', 'mslp_min_p']\n",
      "Instant  2020100300  - Longitude:  -2.5357142857142856 , Latitude:  46.816265060240966\n",
      "Diagnostics:  ['mslp_min_o', 'mslp_min_p']\n",
      "Instant  2020100303  - Longitude:  -1.7817460317460316 , Latitude:  46.27873563218391\n",
      "Diagnostics:  ['mslp_min_o', 'mslp_min_p']\n",
      "Instant  2020100306  - Longitude:  -0.875 , Latitude:  45.96008403361345\n",
      "Diagnostics:  ['mslp_min_o', 'mslp_min_p']\n"
     ]
    }
   ],
   "source": [
    "print(\"Succesive objects in the track: \")\n",
    "for obj in traj.traj:\n",
    "    print(\"Instant \", obj.time, \" - Longitude: \",obj.lonc, \", Latitude: \", obj.latc)\n",
    "    print(\"Diagnostics: \", obj.diags)"
   ]
  },
  {
   "cell_type": "markdown",
   "metadata": {},
   "source": [
    "# Reading diagnostics"
   ]
  },
  {
   "cell_type": "markdown",
   "metadata": {},
   "source": [
    "One may wish to get the value of the diagnostics along the track.\n",
    "To write down the diagnostic:"
   ]
  },
  {
   "cell_type": "code",
   "execution_count": 7,
   "metadata": {},
   "outputs": [
    {
     "name": "stdout",
     "output_type": "stream",
     "text": [
      "Instant - Longitude - Latitude - mslp_min_p\n",
      "2020100112 -10.818181818181818 47.56707317073171 99553.54599154656\n",
      "2020100115 -7.890909090909091 47.85747663551402 98836.21345980247\n",
      "2020100118 -6.063559322033898 47.88059701492537 98241.29714575956\n",
      "2020100121 -4.085820895522388 47.743288590604024 97797.99876587073\n",
      "2020100200 -2.9533898305084745 48.93115942028985 97475.10147998034\n",
      "2020100203 -2.3214285714285716 49.17816091954023 97290.46832666257\n",
      "2020100206 -2.0694444444444446 49.68333333333333 97251.97575231481\n",
      "2020100209 -2.9431818181818183 49.66 97261.41105113637\n",
      "2020100212 -3.2126865671641793 49.078 97380.30693376866\n",
      "2020100215 -3.230392156862745 48.83715596330275 97507.65476873088\n",
      "2020100218 -3.2142857142857144 48.435483870967744 97714.32762096774\n",
      "2020100221 -3.1982758620689653 47.579896907216494 97890.33665959386\n",
      "2020100300 -2.5357142857142856 46.816265060240966 97975.70621772806\n",
      "2020100303 -1.7817460317460316 46.27873563218391 98037.70188919676\n",
      "2020100306 -0.875 45.96008403361345 98197.28794642857\n"
     ]
    }
   ],
   "source": [
    "diag=\"mslp_min_p\" #We assume that this diagnostic is included in the track\n",
    "\n",
    "print(\"Instant - Longitude - Latitude - \"+diag)\n",
    "for obj in traj.traj:\n",
    "    print(obj.time, obj.mslp_min_p[0], obj.mslp_min_p[1], obj.mslp_min_p[2])"
   ]
  },
  {
   "cell_type": "markdown",
   "metadata": {},
   "source": [
    "Note that a diagnostic is composed of 3 values : longitude, latitude and value. For instance, for a diagnostic that corresponds to the minimum value of mean-sea-level pressure (mslp), the two first values is the position of the minimum, and the third value is the value of mslp at this position."
   ]
  },
  {
   "cell_type": "markdown",
   "metadata": {},
   "source": [
    "We can also get the minimum (or maximum) value of a diagnostic along a track:"
   ]
  },
  {
   "cell_type": "code",
   "execution_count": 8,
   "metadata": {},
   "outputs": [
    {
     "name": "stdout",
     "output_type": "stream",
     "text": [
      "Track - 2020100106,member008 - Minimum value of mslp_min_p :  97251.97575231481\n",
      "Track - 2020100106,member010 - Minimum value of mslp_min_p :  96804.04762975333\n",
      "Track - 2020100112,member008 - Minimum value of mslp_min_p :  96808.68834722223\n",
      "Track - 2020100112,member010 - Minimum value of mslp_min_p :  97535.46829139108\n"
     ]
    }
   ],
   "source": [
    "diag=\"mslp_min_p\" #We assume that this diagnostic is included in the track\n",
    "for traj in ltraj:\n",
    "    print(\"Track - \"+ traj.basetime + \",member\" + traj.inputdef[\"member\"] + \" - Minimum value of \"+diag+\" : \",traj.tmin(diag))"
   ]
  },
  {
   "cell_type": "markdown",
   "metadata": {},
   "source": [
    "# Filtering a list of tracks"
   ]
  },
  {
   "cell_type": "markdown",
   "metadata": {},
   "source": [
    "A list of tracks out of track() may include many tracks, with different names, different forecast basetimes, etc. A useful utility is Select(), which keeps only the tracks that correspond to a given property (basetime, name, member)."
   ]
  },
  {
   "cell_type": "code",
   "execution_count": 13,
   "metadata": {},
   "outputs": [
    {
     "name": "stdout",
     "output_type": "stream",
     "text": [
      "Tracks that are associated to basetime 2020100112 :\n",
      "2 tracks ...\n",
      "ALEX  - Basetime  2020100112  - member  008\n",
      "ALEX  - Basetime  2020100112  - member  010\n",
      " \n",
      "Tracks that are associated to member 010 :\n",
      "2 tracks ...\n",
      "ALEX  - Basetime  2020100112  - member  010\n",
      "ALEX  - Basetime  2020100112  - member  010\n",
      " \n",
      "Tracks that are associated to name ALEX :\n",
      "4 tracks ...\n",
      "ALEX  - Basetime  2020100112  - member  008\n",
      "ALEX  - Basetime  2020100112  - member  010\n",
      "ALEX  - Basetime  2020100112  - member  008\n",
      "ALEX  - Basetime  2020100112  - member  010\n"
     ]
    }
   ],
   "source": [
    "bt=\"2020100112\"\n",
    "print(\"Tracks that are associated to basetime \"+bt+ \" :\")\n",
    "print(str(len(Select(ltraj,{\"basetime\":bt})))+\" tracks ...\")\n",
    "for traj in Select(ltraj,{\"basetime\":bt}):\n",
    "    print(traj.name,\" - Basetime \", bt, \" - member \",traj.inputdef[\"member\"])\n",
    "\n",
    "print(\" \")\n",
    "\n",
    "mb=\"010\"\n",
    "print(\"Tracks that are associated to member \"+mb+ \" :\")\n",
    "print(str(len(Select(ltraj,{\"member\":mb})))+\" tracks ...\")\n",
    "for traj in Select(ltraj,{\"member\":mb}):\n",
    "    print(traj.name,\" - Basetime \", bt, \" - member \",traj.inputdef[\"member\"])\n",
    "\n",
    "print(\" \")\n",
    "\n",
    "name=\"ALEX\"\n",
    "print(\"Tracks that are associated to name \"+name+ \" :\")\n",
    "print(str(len(Select(ltraj,{\"name\":name})))+\" tracks ...\")\n",
    "for traj in Select(ltraj,{\"name\":name}):\n",
    "    print(traj.name,\" - Basetime \", bt, \" - member \",traj.inputdef[\"member\"])"
   ]
  },
  {
   "cell_type": "markdown",
   "metadata": {},
   "source": [
    "# Conclusion"
   ]
  },
  {
   "cell_type": "markdown",
   "metadata": {},
   "source": [
    "This is the end of this Notebook. Now you should know how to explore a track file.\n",
    "You may develop and apply your own processing routines on the tracks that Traject delivers.\n",
    "\n",
    "Some built-in visualisation routine are also available in visu_traject."
   ]
  }
 ],
 "metadata": {
  "kernelspec": {
   "display_name": "Python 3",
   "language": "python",
   "name": "python3"
  },
  "language_info": {
   "codemirror_mode": {
    "name": "ipython",
    "version": 3
   },
   "file_extension": ".py",
   "mimetype": "text/x-python",
   "name": "python",
   "nbconvert_exporter": "python",
   "pygments_lexer": "ipython3",
   "version": "3.8.10"
  }
 },
 "nbformat": 4,
 "nbformat_minor": 4
}

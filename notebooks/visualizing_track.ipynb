{
 "cells": [
  {
   "cell_type": "markdown",
   "metadata": {},
   "source": [
    "# Traject: visualizing tracks"
   ]
  },
  {
   "cell_type": "markdown",
   "metadata": {},
   "source": [
    "This Notebook illustrates how to visualize tracks using the visualization routines that are available in visu_traject.py. These routines are assumed to be a good starting point to plot tracks, diagnostics etc. Probabilistic and ensemble visualisations (strike probabilities, whisker plots, for instances) are also available. \n",
    "\n",
    "It is assumed that a file has been computed and stored by a previous track() command. If needed, you can change the filename and go through the Notebook."
   ]
  },
  {
   "cell_type": "code",
   "execution_count": 4,
   "metadata": {},
   "outputs": [
    {
     "name": "stdout",
     "output_type": "stream",
     "text": [
      "Traject version is : v0.83\n",
      " \n",
      "ltraj contains 4 tracks\n"
     ]
    }
   ],
   "source": [
    "import numpy as np\n",
    "from traject import *\n",
    "from visu_traject import *\n",
    "import matplotlib.pyplot as plt\n",
    "\n",
    "#Epygram environment\n",
    "import epygram\n",
    "epygram.init_env()\n",
    "os.environ[\"ECCODES_SAMPLES_PATH\"]=(\"/home/common/epygram/ext/eccodes/share/eccodes/samples\")\n",
    "\n",
    "filename=\"../test_cases/test2/track_test_case2a_v\" + str(traject_version) + \".json\"\n",
    "\n",
    "print(\"Traject version is : v\" + str(traject_version))\n",
    "\n",
    "#Reading the input track file (if needed, you can change the filename)\n",
    "ltraj=Read(filename)\n",
    "print(\" \")\n",
    "print(\"ltraj contains \" + str(len(ltraj)) + \" tracks\")"
   ]
  },
  {
   "cell_type": "code",
   "execution_count": 21,
   "metadata": {},
   "outputs": [
    {
     "name": "stdout",
     "output_type": "stream",
     "text": [
      "{'classobj': 'Centre0D', 'nameobj': '', 'name': 'ALEX', 'nobj': 15, 'traj': [<OBJ_Centre0D.ObjectM object at 0x7fada10272e0>, <OBJ_Centre0D.ObjectM object at 0x7fada10274f0>, <OBJ_Centre0D.ObjectM object at 0x7fada102b850>, <OBJ_Centre0D.ObjectM object at 0x7fada102b910>, <OBJ_Centre0D.ObjectM object at 0x7fad52714400>, <OBJ_Centre0D.ObjectM object at 0x7fad52714370>, <OBJ_Centre0D.ObjectM object at 0x7fad527143a0>, <OBJ_Centre0D.ObjectM object at 0x7fad52714fd0>, <OBJ_Centre0D.ObjectM object at 0x7fad52714640>, <OBJ_Centre0D.ObjectM object at 0x7fad52714490>, <OBJ_Centre0D.ObjectM object at 0x7fad527145b0>, <OBJ_Centre0D.ObjectM object at 0x7fad527145e0>, <OBJ_Centre0D.ObjectM object at 0x7fad52714610>, <OBJ_Centre0D.ObjectM object at 0x7fad52714670>, <OBJ_Centre0D.ObjectM object at 0x7fad52714580>], 'algodef': {'name': 'VDG', 'classobj': 'Centre0D', 'nameobj': 'Cyclone', 'varalgo': {'last_start': 12, 'thr_track': 7e-05, 'thr_pairing': 101000.0, 'ss': 4, 'w': 0.3, 'steering_levels': [850, 700]}, 'parfilt': {'rv850': 100.0, 'u850': 100.0, 'v850': 100.0, 'u700': 100.0, 'v700': 100.0, 'mslp': 0}, 'parres': {'all': 0.5}, 'specfields': {'track': 'rv850', 'pairing': 'mslp'}, 'domtraj': {'lonmin': -30.0, 'latmin': 35.0, 'lonmax': 20.0, 'latmax': 60.0}}, 'inputdef': {'origin': 'fc', 'model': 'arpege', 'domain': 'glob05', 'experiment': 'oper', 'cutoff': 'production', 'member': '008'}, 'basetime': '2020100106'}\n"
     ]
    },
    {
     "ename": "KeyError",
     "evalue": "'mslp'",
     "output_type": "error",
     "traceback": [
      "\u001b[0;31m---------------------------------------------------------------------------\u001b[0m",
      "\u001b[0;31mKeyError\u001b[0m                                  Traceback (most recent call last)",
      "\u001b[0;32m<ipython-input-21-bef23fa34ca6>\u001b[0m in \u001b[0;36m<module>\u001b[0;34m\u001b[0m\n\u001b[0;32m----> 1\u001b[0;31m \u001b[0mmap_plot\u001b[0m\u001b[0;34m(\u001b[0m\u001b[0mltraj\u001b[0m\u001b[0;34m,\u001b[0m\u001b[0mdiag\u001b[0m\u001b[0;34m=\u001b[0m\u001b[0;34m\"mslp_min_p\"\u001b[0m\u001b[0;34m,\u001b[0m\u001b[0mtypeplot\u001b[0m\u001b[0;34m=\u001b[0m\u001b[0;34m\"line\"\u001b[0m\u001b[0;34m,\u001b[0m\u001b[0mfilename\u001b[0m\u001b[0;34m=\u001b[0m\u001b[0;34m\"test.png\"\u001b[0m\u001b[0;34m,\u001b[0m\u001b[0mcolormap\u001b[0m\u001b[0;34m=\u001b[0m\u001b[0;34m\"gist_rainbow\"\u001b[0m\u001b[0;34m)\u001b[0m\u001b[0;34m\u001b[0m\u001b[0;34m\u001b[0m\u001b[0m\n\u001b[0m\u001b[1;32m      2\u001b[0m \u001b[0;31m#plt.show()\u001b[0m\u001b[0;34m\u001b[0m\u001b[0;34m\u001b[0m\u001b[0;34m\u001b[0m\u001b[0m\n",
      "\u001b[0;32m~/python/traject/visu_traject.py\u001b[0m in \u001b[0;36mmap_plot\u001b[0;34m(ltraj, diag, typeplot, leg, opt, fig, filename, colormap, colorlevels, diagthr, diagrad, centre, dom, **kwargs)\u001b[0m\n\u001b[1;32m    206\u001b[0m         \u001b[0mfig\u001b[0m\u001b[0;34m,\u001b[0m \u001b[0max0\u001b[0m \u001b[0;34m=\u001b[0m \u001b[0mstart_figure_map\u001b[0m\u001b[0;34m(\u001b[0m\u001b[0;34m**\u001b[0m\u001b[0mkwargs\u001b[0m\u001b[0;34m)\u001b[0m\u001b[0;34m\u001b[0m\u001b[0;34m\u001b[0m\u001b[0m\n\u001b[1;32m    207\u001b[0m         \u001b[0;31m#Set up domain limits\u001b[0m\u001b[0;34m\u001b[0m\u001b[0;34m\u001b[0m\u001b[0;34m\u001b[0m\u001b[0m\n\u001b[0;32m--> 208\u001b[0;31m         \u001b[0mlonmin\u001b[0m\u001b[0;34m,\u001b[0m\u001b[0mlonmax\u001b[0m\u001b[0;34m,\u001b[0m\u001b[0mlatmin\u001b[0m\u001b[0;34m,\u001b[0m\u001b[0mlatmax\u001b[0m\u001b[0;34m,\u001b[0m\u001b[0mres\u001b[0m \u001b[0;34m=\u001b[0m \u001b[0mset_dom_limits\u001b[0m\u001b[0;34m(\u001b[0m\u001b[0mltraj\u001b[0m\u001b[0;34m,\u001b[0m\u001b[0mopt\u001b[0m\u001b[0;34m,\u001b[0m\u001b[0mdiag\u001b[0m\u001b[0;34m=\u001b[0m\u001b[0mdiag\u001b[0m\u001b[0;34m,\u001b[0m\u001b[0mdiagrad\u001b[0m\u001b[0;34m=\u001b[0m\u001b[0mdiagrad\u001b[0m\u001b[0;34m,\u001b[0m\u001b[0mdom\u001b[0m\u001b[0;34m=\u001b[0m\u001b[0mdom\u001b[0m\u001b[0;34m)\u001b[0m\u001b[0;34m\u001b[0m\u001b[0;34m\u001b[0m\u001b[0m\n\u001b[0m\u001b[1;32m    209\u001b[0m         \u001b[0max0\u001b[0m\u001b[0;34m.\u001b[0m\u001b[0mset_extent\u001b[0m\u001b[0;34m(\u001b[0m\u001b[0;34m[\u001b[0m\u001b[0mlonmin\u001b[0m\u001b[0;34m,\u001b[0m\u001b[0mlonmax\u001b[0m\u001b[0;34m,\u001b[0m\u001b[0mlatmin\u001b[0m\u001b[0;34m,\u001b[0m\u001b[0mlatmax\u001b[0m\u001b[0;34m]\u001b[0m\u001b[0;34m)\u001b[0m\u001b[0;34m\u001b[0m\u001b[0;34m\u001b[0m\u001b[0m\n\u001b[1;32m    210\u001b[0m \u001b[0;34m\u001b[0m\u001b[0m\n",
      "\u001b[0;32m~/python/traject/visu_traject.py\u001b[0m in \u001b[0;36mset_dom_limits\u001b[0;34m(ltraj, opt, diag, diagrad, dom)\u001b[0m\n\u001b[1;32m    531\u001b[0m             \u001b[0mres\u001b[0m \u001b[0;34m=\u001b[0m \u001b[0mltraj\u001b[0m\u001b[0;34m[\u001b[0m\u001b[0;36m0\u001b[0m\u001b[0;34m]\u001b[0m\u001b[0;34m.\u001b[0m\u001b[0malgodef\u001b[0m\u001b[0;34m[\u001b[0m\u001b[0;34m\"parres\"\u001b[0m\u001b[0;34m]\u001b[0m\u001b[0;34m[\u001b[0m\u001b[0mpar\u001b[0m\u001b[0;34m]\u001b[0m\u001b[0;34m\u001b[0m\u001b[0;34m\u001b[0m\u001b[0m\n\u001b[1;32m    532\u001b[0m         \u001b[0;32melse\u001b[0m\u001b[0;34m:\u001b[0m\u001b[0;34m\u001b[0m\u001b[0;34m\u001b[0m\u001b[0m\n\u001b[0;32m--> 533\u001b[0;31m             \u001b[0mres\u001b[0m \u001b[0;34m=\u001b[0m \u001b[0mltraj\u001b[0m\u001b[0;34m[\u001b[0m\u001b[0;36m0\u001b[0m\u001b[0;34m]\u001b[0m\u001b[0;34m.\u001b[0m\u001b[0malgodef\u001b[0m\u001b[0;34m[\u001b[0m\u001b[0;34m\"parres\"\u001b[0m\u001b[0;34m]\u001b[0m\u001b[0;34m[\u001b[0m\u001b[0;34m\"all\"\u001b[0m\u001b[0;34m]\u001b[0m\u001b[0;34m\u001b[0m\u001b[0;34m\u001b[0m\u001b[0m\n\u001b[0m\u001b[1;32m    534\u001b[0m     \u001b[0;32melse\u001b[0m\u001b[0;34m:\u001b[0m\u001b[0;34m\u001b[0m\u001b[0;34m\u001b[0m\u001b[0m\n\u001b[1;32m    535\u001b[0m         \u001b[0mdd\u001b[0m \u001b[0;34m=\u001b[0m \u001b[0mTools\u001b[0m\u001b[0;34m.\u001b[0m\u001b[0mguess_diag\u001b[0m\u001b[0;34m(\u001b[0m\u001b[0mdiag\u001b[0m\u001b[0;34m,\u001b[0m\u001b[0;32mTrue\u001b[0m\u001b[0;34m)\u001b[0m\u001b[0;34m\u001b[0m\u001b[0;34m\u001b[0m\u001b[0m\n",
      "\u001b[0;31mKeyError\u001b[0m: 'mslp'"
     ]
    }
   ],
   "source": [
    "map_plot(ltraj,diag=\"mslp_min_p\",typeplot=\"line\",filename=\"test.png\",colormap=\"gist_rainbow\")\n",
    "#plt.show()"
   ]
  },
  {
   "cell_type": "code",
   "execution_count": null,
   "metadata": {},
   "outputs": [],
   "source": []
  },
  {
   "cell_type": "code",
   "execution_count": null,
   "metadata": {},
   "outputs": [],
   "source": []
  },
  {
   "cell_type": "code",
   "execution_count": null,
   "metadata": {},
   "outputs": [],
   "source": []
  },
  {
   "cell_type": "code",
   "execution_count": null,
   "metadata": {},
   "outputs": [],
   "source": []
  },
  {
   "cell_type": "code",
   "execution_count": null,
   "metadata": {},
   "outputs": [],
   "source": []
  },
  {
   "cell_type": "markdown",
   "metadata": {},
   "source": [
    "If the routines in visu_traject do not fully match your need, feel free to copy and adapt them! "
   ]
  }
 ],
 "metadata": {
  "kernelspec": {
   "display_name": "Python 3",
   "language": "python",
   "name": "python3"
  },
  "language_info": {
   "codemirror_mode": {
    "name": "ipython",
    "version": 3
   },
   "file_extension": ".py",
   "mimetype": "text/x-python",
   "name": "python",
   "nbconvert_exporter": "python",
   "pygments_lexer": "ipython3",
   "version": "3.8.10"
  }
 },
 "nbformat": 4,
 "nbformat_minor": 4
}
